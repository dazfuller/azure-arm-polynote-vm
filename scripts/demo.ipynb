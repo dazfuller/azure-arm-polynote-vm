{
  "metadata" : {
    "config" : {
      "dependencies" : {
        
      },
      "exclusions" : [
      ],
      "repositories" : [
      ],
      "env" : {
        
      }
    },
    "language_info" : {
      "name" : "python"
    }
  },
  "nbformat" : 4,
  "nbformat_minor" : 0,
  "cells" : [
    {
      "cell_type" : "markdown",
      "execution_count" : 0,
      "metadata" : {
        "language" : "text"
      },
      "language" : "text",
      "source" : [
        "# Demo\n",
        "\n",
        "\n",
        "This shows using Python to read data from the GitHub search\n",
        " API and writing it to the blob storage backed mount point\n",
        "\n"
      ],
      "outputs" : [
      ]
    },
    {
      "cell_type" : "code",
      "execution_count" : 3,
      "metadata" : {
        "cell.metadata.exec_info" : {
          "startTs" : 1586195149807,
          "endTs" : 1586195150108
        },
        "language" : "python"
      },
      "language" : "python",
      "source" : [
        "import json\r\n",
        "import requests\r\n",
        "\r\n",
        "req = requests.get(\"https://api.github.com/search/repositories?q=tetris+language:assembly&sort=stars&order=desc\")\r\n",
        "if not req.ok:\r\n",
        "    raise \"Unable to download data\"\r\n",
        "\r\n",
        "with open(\"/media/polydata/data/github-tetris.json\", \"w\") as f:\r\n",
        "    json.dump(req.json(), f)"
      ],
      "outputs" : [
      ]
    },
    {
      "cell_type" : "code",
      "execution_count" : 4,
      "metadata" : {
        "language" : "python"
      },
      "language" : "python",
      "source" : [
      ],
      "outputs" : [
      ]
    }
  ]
}